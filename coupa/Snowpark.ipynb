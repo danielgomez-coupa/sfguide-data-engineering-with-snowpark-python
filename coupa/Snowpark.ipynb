{
 "cells": [
  {
   "cell_type": "code",
   "execution_count": 1,
   "metadata": {},
   "outputs": [],
   "source": [
    "#Imports and Declarations"
   ]
  },
  {
   "cell_type": "code",
   "execution_count": 2,
   "metadata": {},
   "outputs": [],
   "source": [
    "# Credentials import\n",
    "from config import *"
   ]
  },
  {
   "cell_type": "code",
   "execution_count": 3,
   "metadata": {},
   "outputs": [],
   "source": [
    "# Imports\n",
    "from snowflake.snowpark.session import Session\n",
    "import snowflake.snowpark.functions as F\n",
    "from snowflake.snowpark.types import *\n",
    "from datetime import date"
   ]
  },
  {
   "cell_type": "code",
   "execution_count": 4,
   "metadata": {},
   "outputs": [],
   "source": [
    "# Function to create a session, it uses the imported credntials values\n",
    "def snowpark_session_create():\n",
    "    connection_params = {\n",
    "        \"account\": account_id,\n",
    "        \"user\": username,\n",
    "        \"password\": pasword,\n",
    "        \"role\": role,\n",
    "        \"warehouse\": warehouse\n",
    "    }\n",
    "    session = Session.builder.configs(connection_params).create()\n",
    "    return session"
   ]
  },
  {
   "cell_type": "code",
   "execution_count": 5,
   "metadata": {},
   "outputs": [],
   "source": [
    "# Creation of the session\n",
    "demo_session = snowpark_session_create()"
   ]
  },
  {
   "cell_type": "code",
   "execution_count": 6,
   "metadata": {},
   "outputs": [],
   "source": [
    "df = demo_session.sql('SELECT * FROM PRODUCTION_BIZ_OPS.AWS_EXTERNAL.CSV_ENTITLEMENT_TEST_2')\n",
    "#df = demo_session.sql('SELECT * FROM PRODUCTION_BIZ_OPS.AWS_EXTERNAL.SNOWPIPEPOC')"
   ]
  },
  {
   "cell_type": "code",
   "execution_count": 7,
   "metadata": {},
   "outputs": [
    {
     "name": "stdout",
     "output_type": "stream",
     "text": [
      "------------------------------------------------------------------------------\n",
      "|\"VALUE\"         |\"Field_1\"  |\"Field_2\"  |\"Field_3\"  |\"Field_4\"  |\"Field_5\"  |\n",
      "------------------------------------------------------------------------------\n",
      "|{               |AAA        |BBB        |CCC        |DDD        |EEE        |\n",
      "|  \"c1\": \"AAA\",  |           |           |           |           |           |\n",
      "|  \"c2\": \"BBB\",  |           |           |           |           |           |\n",
      "|  \"c3\": \"CCC\",  |           |           |           |           |           |\n",
      "|  \"c4\": \"DDD\",  |           |           |           |           |           |\n",
      "|  \"c5\": \"EEE\"   |           |           |           |           |           |\n",
      "|}               |           |           |           |           |           |\n",
      "|{               |aa1        |bb1        |cc1        |dd1        |ee1        |\n",
      "|  \"c1\": \"aa1\",  |           |           |           |           |           |\n",
      "|  \"c2\": \"bb1\",  |           |           |           |           |           |\n",
      "|  \"c3\": \"cc1\",  |           |           |           |           |           |\n",
      "|  \"c4\": \"dd1\",  |           |           |           |           |           |\n",
      "|  \"c5\": \"ee1\"   |           |           |           |           |           |\n",
      "|}               |           |           |           |           |           |\n",
      "|{               |aa2        |bb2        |cc2        |dd2        |ee2        |\n",
      "|  \"c1\": \"aa2\",  |           |           |           |           |           |\n",
      "|  \"c2\": \"bb2\",  |           |           |           |           |           |\n",
      "|  \"c3\": \"cc2\",  |           |           |           |           |           |\n",
      "|  \"c4\": \"dd2\",  |           |           |           |           |           |\n",
      "|  \"c5\": \"ee2\"   |           |           |           |           |           |\n",
      "|}               |           |           |           |           |           |\n",
      "|{               |aa3        |bb3        |cc3        |dd3        |ee3        |\n",
      "|  \"c1\": \"aa3\",  |           |           |           |           |           |\n",
      "|  \"c2\": \"bb3\",  |           |           |           |           |           |\n",
      "|  \"c3\": \"cc3\",  |           |           |           |           |           |\n",
      "|  \"c4\": \"dd3\",  |           |           |           |           |           |\n",
      "|  \"c5\": \"ee3\"   |           |           |           |           |           |\n",
      "|}               |           |           |           |           |           |\n",
      "|{               |aa4        |bb4        |cc4        |dd4        |ee4        |\n",
      "|  \"c1\": \"aa4\",  |           |           |           |           |           |\n",
      "|  \"c2\": \"bb4\",  |           |           |           |           |           |\n",
      "|  \"c3\": \"cc4\",  |           |           |           |           |           |\n",
      "|  \"c4\": \"dd4\",  |           |           |           |           |           |\n",
      "|  \"c5\": \"ee4\"   |           |           |           |           |           |\n",
      "|}               |           |           |           |           |           |\n",
      "|{               |AAA        |BBB        |CCC        |DDD        |EEE        |\n",
      "|  \"c1\": \"AAA\",  |           |           |           |           |           |\n",
      "|  \"c2\": \"BBB\",  |           |           |           |           |           |\n",
      "|  \"c3\": \"CCC\",  |           |           |           |           |           |\n",
      "|  \"c4\": \"DDD\",  |           |           |           |           |           |\n",
      "|  \"c5\": \"EEE\"   |           |           |           |           |           |\n",
      "|}               |           |           |           |           |           |\n",
      "|{               |aa1        |bb1        |cc1        |dd1        |ee1        |\n",
      "|  \"c1\": \"aa1\",  |           |           |           |           |           |\n",
      "|  \"c2\": \"bb1\",  |           |           |           |           |           |\n",
      "|  \"c3\": \"cc1\",  |           |           |           |           |           |\n",
      "|  \"c4\": \"dd1\",  |           |           |           |           |           |\n",
      "|  \"c5\": \"ee1\"   |           |           |           |           |           |\n",
      "|}               |           |           |           |           |           |\n",
      "|{               |aa2        |bb2        |NULL       |NULL       |NULL       |\n",
      "|  \"c1\": \"aa2\",  |           |           |           |           |           |\n",
      "|  \"c2\": \"bb2\"   |           |           |           |           |           |\n",
      "|}               |           |           |           |           |           |\n",
      "|{               |aa3        |bb3        |cc3        |dd3        |ee3        |\n",
      "|  \"c1\": \"aa3\",  |           |           |           |           |           |\n",
      "|  \"c2\": \"bb3\",  |           |           |           |           |           |\n",
      "|  \"c3\": \"cc3\",  |           |           |           |           |           |\n",
      "|  \"c4\": \"dd3\",  |           |           |           |           |           |\n",
      "|  \"c5\": \"ee3\"   |           |           |           |           |           |\n",
      "|}               |           |           |           |           |           |\n",
      "|{               |aa4        |bb4        |cc4        |NULL       |NULL       |\n",
      "|  \"c1\": \"aa4\",  |           |           |           |           |           |\n",
      "|  \"c2\": \"bb4\",  |           |           |           |           |           |\n",
      "|  \"c3\": \"cc4\"   |           |           |           |           |           |\n",
      "|}               |           |           |           |           |           |\n",
      "------------------------------------------------------------------------------\n",
      "\n"
     ]
    }
   ],
   "source": [
    "df.show()"
   ]
  },
  {
   "cell_type": "code",
   "execution_count": 8,
   "metadata": {},
   "outputs": [],
   "source": [
    "# Point session to the desired database (External table)\n",
    "demo_session.use_database(\"PRODUCTION_BIZ_OPS\")\n",
    "\n",
    "# Point session to the desired schema\n",
    "demo_session.use_schema(\"AWS_EXTERNAL\")"
   ]
  },
  {
   "cell_type": "code",
   "execution_count": 9,
   "metadata": {},
   "outputs": [],
   "source": [
    "# Define the Schema\n",
    "schema = StructType(\n",
    "    [StructField(\"Field_1\", StringType()),\n",
    "     StructField(\"Field_2\", StringType()),\n",
    "     StructField(\"Field_3\", StringType()),\n",
    "     StructField(\"Field_4\", StringType()),\n",
    "     StructField(\"Field_5\", StringType())\n",
    "    ]\n",
    ")\n",
    "\n",
    "# Read the CSV files\n",
    "df_csv = demo_session.read.schema(schema).csv(\"@AWS_EXTERNAL_TABLES/csv/test/\")"
   ]
  },
  {
   "cell_type": "code",
   "execution_count": 10,
   "metadata": {},
   "outputs": [
    {
     "name": "stdout",
     "output_type": "stream",
     "text": [
      "-------------------------------------------------------------\n",
      "|\"FIELD_1\"  |\"FIELD_2\"  |\"FIELD_3\"  |\"FIELD_4\"  |\"FIELD_5\"  |\n",
      "-------------------------------------------------------------\n",
      "|Field_1    |Field_2    |Field_3    |Field_4    |Field_5    |\n",
      "|AAA        |BBB        |CCC        |DDD        |EEE        |\n",
      "|aa1        |bb1        |cc1        |dd1        |ee1        |\n",
      "|aa2        |bb2        |NULL       |NULL       |NULL       |\n",
      "|aa3        |bb3        |cc3        |dd3        |ee3        |\n",
      "|aa4        |bb4        |cc4        |NULL       |NULL       |\n",
      "|Field_1    |Field_2    |Field_3    |Field_4    |Field_5    |\n",
      "|AAA        |BBB        |CCC        |DDD        |EEE        |\n",
      "|aa1        |bb1        |cc1        |dd1        |ee1        |\n",
      "|aa2        |bb2        |NULL       |NULL       |NULL       |\n",
      "-------------------------------------------------------------\n",
      "\n"
     ]
    }
   ],
   "source": [
    "df_csv.show()"
   ]
  },
  {
   "cell_type": "code",
   "execution_count": 11,
   "metadata": {},
   "outputs": [],
   "source": [
    "#df_csv_2 = demo_session.read.option(\"INFER_SCHEMA\", True).option(\"PARSE_HEADER\", True).option(\"ERROR_ON_COLUMN_COUNT_MISMATCH\", False).option(\"EMPTY_FIELD_AS_NULL\", True).csv(\"@AWS_EXTERNAL_TABLES/csv/test/\")"
   ]
  },
  {
   "cell_type": "code",
   "execution_count": 12,
   "metadata": {},
   "outputs": [],
   "source": [
    "#df_csv_2.show()"
   ]
  },
  {
   "cell_type": "code",
   "execution_count": 13,
   "metadata": {},
   "outputs": [],
   "source": [
    "df = demo_session.table(\"CSV_ENTITLEMENT_TEST_2\")\n",
    "\n",
    "df.columns\n",
    "\n",
    "df = df.select(\n",
    "    \"Value\",\n",
    "    '\"Field_1\"',\n",
    "    '\"Field_2\"',\n",
    "    '\"Field_3\"',\n",
    "    '\"Field_4\"',\n",
    "    '\"Field_5\"'\n",
    ")#.filter((F.col(\"Field_1\").contains(\"A\")))"
   ]
  },
  {
   "cell_type": "code",
   "execution_count": 14,
   "metadata": {},
   "outputs": [
    {
     "name": "stdout",
     "output_type": "stream",
     "text": [
      "------------------------------------------------------------------------------\n",
      "|\"VALUE\"         |\"Field_1\"  |\"Field_2\"  |\"Field_3\"  |\"Field_4\"  |\"Field_5\"  |\n",
      "------------------------------------------------------------------------------\n",
      "|{               |AAA        |BBB        |CCC        |DDD        |EEE        |\n",
      "|  \"c1\": \"AAA\",  |           |           |           |           |           |\n",
      "|  \"c2\": \"BBB\",  |           |           |           |           |           |\n",
      "|  \"c3\": \"CCC\",  |           |           |           |           |           |\n",
      "|  \"c4\": \"DDD\",  |           |           |           |           |           |\n",
      "|  \"c5\": \"EEE\"   |           |           |           |           |           |\n",
      "|}               |           |           |           |           |           |\n",
      "|{               |aa1        |bb1        |cc1        |dd1        |ee1        |\n",
      "|  \"c1\": \"aa1\",  |           |           |           |           |           |\n",
      "|  \"c2\": \"bb1\",  |           |           |           |           |           |\n",
      "|  \"c3\": \"cc1\",  |           |           |           |           |           |\n",
      "|  \"c4\": \"dd1\",  |           |           |           |           |           |\n",
      "|  \"c5\": \"ee1\"   |           |           |           |           |           |\n",
      "|}               |           |           |           |           |           |\n",
      "|{               |aa2        |bb2        |cc2        |dd2        |ee2        |\n",
      "|  \"c1\": \"aa2\",  |           |           |           |           |           |\n",
      "|  \"c2\": \"bb2\",  |           |           |           |           |           |\n",
      "|  \"c3\": \"cc2\",  |           |           |           |           |           |\n",
      "|  \"c4\": \"dd2\",  |           |           |           |           |           |\n",
      "|  \"c5\": \"ee2\"   |           |           |           |           |           |\n",
      "|}               |           |           |           |           |           |\n",
      "|{               |aa3        |bb3        |cc3        |dd3        |ee3        |\n",
      "|  \"c1\": \"aa3\",  |           |           |           |           |           |\n",
      "|  \"c2\": \"bb3\",  |           |           |           |           |           |\n",
      "|  \"c3\": \"cc3\",  |           |           |           |           |           |\n",
      "|  \"c4\": \"dd3\",  |           |           |           |           |           |\n",
      "|  \"c5\": \"ee3\"   |           |           |           |           |           |\n",
      "|}               |           |           |           |           |           |\n",
      "|{               |aa4        |bb4        |cc4        |dd4        |ee4        |\n",
      "|  \"c1\": \"aa4\",  |           |           |           |           |           |\n",
      "|  \"c2\": \"bb4\",  |           |           |           |           |           |\n",
      "|  \"c3\": \"cc4\",  |           |           |           |           |           |\n",
      "|  \"c4\": \"dd4\",  |           |           |           |           |           |\n",
      "|  \"c5\": \"ee4\"   |           |           |           |           |           |\n",
      "|}               |           |           |           |           |           |\n",
      "|{               |AAA        |BBB        |CCC        |DDD        |EEE        |\n",
      "|  \"c1\": \"AAA\",  |           |           |           |           |           |\n",
      "|  \"c2\": \"BBB\",  |           |           |           |           |           |\n",
      "|  \"c3\": \"CCC\",  |           |           |           |           |           |\n",
      "|  \"c4\": \"DDD\",  |           |           |           |           |           |\n",
      "|  \"c5\": \"EEE\"   |           |           |           |           |           |\n",
      "|}               |           |           |           |           |           |\n",
      "|{               |aa1        |bb1        |cc1        |dd1        |ee1        |\n",
      "|  \"c1\": \"aa1\",  |           |           |           |           |           |\n",
      "|  \"c2\": \"bb1\",  |           |           |           |           |           |\n",
      "|  \"c3\": \"cc1\",  |           |           |           |           |           |\n",
      "|  \"c4\": \"dd1\",  |           |           |           |           |           |\n",
      "|  \"c5\": \"ee1\"   |           |           |           |           |           |\n",
      "|}               |           |           |           |           |           |\n",
      "|{               |aa2        |bb2        |NULL       |NULL       |NULL       |\n",
      "|  \"c1\": \"aa2\",  |           |           |           |           |           |\n",
      "|  \"c2\": \"bb2\"   |           |           |           |           |           |\n",
      "|}               |           |           |           |           |           |\n",
      "|{               |aa3        |bb3        |cc3        |dd3        |ee3        |\n",
      "|  \"c1\": \"aa3\",  |           |           |           |           |           |\n",
      "|  \"c2\": \"bb3\",  |           |           |           |           |           |\n",
      "|  \"c3\": \"cc3\",  |           |           |           |           |           |\n",
      "|  \"c4\": \"dd3\",  |           |           |           |           |           |\n",
      "|  \"c5\": \"ee3\"   |           |           |           |           |           |\n",
      "|}               |           |           |           |           |           |\n",
      "|{               |aa4        |bb4        |cc4        |NULL       |NULL       |\n",
      "|  \"c1\": \"aa4\",  |           |           |           |           |           |\n",
      "|  \"c2\": \"bb4\",  |           |           |           |           |           |\n",
      "|  \"c3\": \"cc4\"   |           |           |           |           |           |\n",
      "|}               |           |           |           |           |           |\n",
      "------------------------------------------------------------------------------\n",
      "\n"
     ]
    }
   ],
   "source": [
    "df.show()"
   ]
  },
  {
   "cell_type": "code",
   "execution_count": 15,
   "metadata": {},
   "outputs": [
    {
     "data": {
      "text/plain": [
       "['\"Field_1\"', '\"Field_2\"', '\"Field_3\"', '\"Field_4\"', '\"Field_5\"']"
      ]
     },
     "execution_count": 15,
     "metadata": {},
     "output_type": "execute_result"
    }
   ],
   "source": [
    "df = demo_session.table(\"SNOWPIPEPOC\")\n",
    "\n",
    "df.columns"
   ]
  },
  {
   "cell_type": "code",
   "execution_count": 16,
   "metadata": {},
   "outputs": [
    {
     "name": "stdout",
     "output_type": "stream",
     "text": [
      "-------------------------------------------------------------\n",
      "|\"Field_1\"  |\"Field_2\"  |\"Field_3\"  |\"Field_4\"  |\"Field_5\"  |\n",
      "-------------------------------------------------------------\n",
      "|AAA        |BBB        |CCC        |DDD        |EEE        |\n",
      "|aa1        |bb1        |cc1        |dd1        |ee1        |\n",
      "|aa2        |bb2        |NULL       |NULL       |NULL       |\n",
      "|aa3        |bb3        |cc3        |dd3        |ee3        |\n",
      "|aa4        |bb4        |cc4        |NULL       |NULL       |\n",
      "|AAA        |BBB        |CCC        |DDD        |EEE        |\n",
      "|aa1        |bb1        |cc1        |dd1        |ee1        |\n",
      "|aa2        |bb2        |cc2        |dd2        |ee2        |\n",
      "|aa3        |bb3        |cc3        |dd3        |ee3        |\n",
      "|aa4        |bb4        |cc4        |dd4        |ee4        |\n",
      "-------------------------------------------------------------\n",
      "\n"
     ]
    }
   ],
   "source": [
    "df.show()"
   ]
  },
  {
   "cell_type": "code",
   "execution_count": 19,
   "metadata": {},
   "outputs": [
    {
     "name": "stdout",
     "output_type": "stream",
     "text": [
      "----------------------------------------------------------------------------------------------------------------------------------------\n",
      "|\"\"\"Field_1\"\"_null_count\"  |\"\"\"Field_2\"\"_null_count\"  |\"\"\"Field_3\"\"_null_count\"  |\"\"\"Field_4\"\"_null_count\"  |\"\"\"Field_5\"\"_null_count\"  |\n",
      "----------------------------------------------------------------------------------------------------------------------------------------\n",
      "|0                         |0                         |1                         |2                         |2                         |\n",
      "----------------------------------------------------------------------------------------------------------------------------------------\n",
      "\n"
     ]
    }
   ],
   "source": [
    "df_transformed = df.distinct()\n",
    "\n",
    "for i in df_transformed.columns:\n",
    "    df_transformed = df_transformed.withColumn(i, F.lower(df_transformed[i]))\n",
    "\n",
    "#df_transformed.columns\n",
    "\n",
    "df_transformed = df_transformed.sort(df_transformed['\"Field_2\"'].asc())\n",
    "\n",
    "#df_transformed = df_transformed.filter(F.col('\"Field_2\"').contains('2'))\n",
    "\n",
    "df_null = [F.count(F.when(F.col(i).isNull(), 1)).alias(i + '_null_count') for i in df_transformed.columns]\n",
    "df_null_count = df_transformed.agg(*df_null)\n",
    "\n",
    "\n",
    "#df_transformed.show()\n",
    "df_null_count.show()"
   ]
  },
  {
   "cell_type": "code",
   "execution_count": 20,
   "metadata": {},
   "outputs": [],
   "source": [
    "demo_session.close()"
   ]
  }
 ],
 "metadata": {
  "kernelspec": {
   "display_name": "base",
   "language": "python",
   "name": "python3"
  },
  "language_info": {
   "codemirror_mode": {
    "name": "ipython",
    "version": 3
   },
   "file_extension": ".py",
   "mimetype": "text/x-python",
   "name": "python",
   "nbconvert_exporter": "python",
   "pygments_lexer": "ipython3",
   "version": "3.11.7"
  }
 },
 "nbformat": 4,
 "nbformat_minor": 2
}
